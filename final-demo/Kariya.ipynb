{
 "cells": [
  {
   "cell_type": "code",
   "execution_count": 1,
   "id": "3dc3cd2e",
   "metadata": {},
   "outputs": [],
   "source": [
    "from qiskit import QuantumRegister, ClassicalRegister, QuantumCircuit, Aer, execute\n",
    "from qiskit.visualization import plot_histogram, plot_bloch_multivector\n",
    "from math import pi"
   ]
  },
  {
   "cell_type": "code",
   "execution_count": 2,
   "id": "b77ebd8c",
   "metadata": {},
   "outputs": [],
   "source": [
    "def qsvm_circuit_for_six_nine(trains, theta):\n",
    "\n",
    "    q = QuantumRegister(5, name=\"x\")\n",
    "    c = ClassicalRegister(2, name=\"c\")\n",
    "    qc = QuantumCircuit(q, c)\n",
    "\n",
    "    qc.u(-1.57, 0, 0, q[2])    # qc.u3(-1.57, 0, 0, q[2])\n",
    "\n",
    "    qc.barrier()\n",
    "\n",
    "    qc.h(q[0])\n",
    "    qc.h(q[1])\n",
    "\n",
    "    qc.barrier()\n",
    "\n",
    "    qc.p(3.17, q[0])    # qc.u1(3.17, q[0])\n",
    "    qc.p(1.59, q[1])    # qc.u1(1.59, q[1])\n",
    "    qc.cu(pi, pi/2, -pi/2, 0, q[0], q[2])    # qc.cu3(pi, pi/2, -pi/2, q[0], q[2])\n",
    "    qc.cu(pi/2, pi/2, -pi/2, 0, q[1], q[2])    # qc.cu3(pi/2, pi/2, -pi/2, q[1], q[2])\n",
    "\n",
    "    qc.barrier()\n",
    "\n",
    "    qc.h(q[1])\n",
    "    qc.cp(-pi/2, q[0], q[1])    # qc.cu1(-pi/2, q[0], q[1])\n",
    "    qc.h(q[0])\n",
    "\n",
    "    qc.barrier()\n",
    "\n",
    "    qc.cry(pi/4, q[0], q[3])\n",
    "    qc.cry(pi/8, q[1], q[3])\n",
    "\n",
    "    qc.barrier()\n",
    "\n",
    "    qc.h(q[0])\n",
    "    qc.cp(pi/2, q[0], q[1])    # qc.cu1(pi/2, q[0], q[1])\n",
    "    qc.h(q[1])\n",
    "\n",
    "    qc.barrier()\n",
    "\n",
    "    qc.p(-1.59, q[0])    # qc.u1(-1.59, q[1])\n",
    "    qc.p(-3.17, q[1])    # qc.u1(-3.17, q[0])\n",
    "    qc.cu(-pi/2, pi/2, -pi/2, 0, q[0], q[2])    # qc.cu3(-pi/2, pi/2, -pi/2, q[0], q[2])\n",
    "    qc.cu(-pi, pi/2, -pi/2, 0, q[1], q[2])    # qc.cu3(-pi, pi/2, -pi/2, q[1], q[2])\n",
    "\n",
    "    qc.barrier()\n",
    "\n",
    "    qc.h(q[0])\n",
    "    qc.h(q[1])\n",
    "\n",
    "    qc.barrier()\n",
    "\n",
    "    qc.x(q[2])\n",
    "    qc.ccx(q[2], q[3], q[4])\n",
    "    qc.x(q[2])\n",
    "    qc.cry(trains[0], q[4], q[1])\n",
    "    qc.x(q[2])\n",
    "    qc.ccx(q[2], q[3], q[4])\n",
    "    qc.x(q[2])\n",
    "\n",
    "    qc.barrier()\n",
    "\n",
    "    qc.ccx(q[2], q[3], q[4])\n",
    "    qc.cry(trains[1], q[4], q[1])\n",
    "    qc.ccx(q[2], q[3], q[4])\n",
    "\n",
    "    qc.barrier()\n",
    "\n",
    "    qc.cry(-theta, q[3], q[1])\n",
    "    qc.ch(q[3], q[2])\n",
    "\n",
    "    qc.barrier()\n",
    "\n",
    "    qc.h(q[3])\n",
    "    qc.measure(q[3], c[0])\n",
    "    qc.h(q[0])\n",
    "    qc.measure(q[0], c[1])\n",
    "    \n",
    "    return qc"
   ]
  },
  {
   "cell_type": "code",
   "execution_count": 3,
   "id": "671adb56",
   "metadata": {},
   "outputs": [
    {
     "name": "stdout",
     "output_type": "stream",
     "text": [
      "[0, 1, 1, 0, 0, 1, 0, 1]\n"
     ]
    }
   ],
   "source": [
    "trains = [0.3194, 2.4174]\n",
    "thetas = [-0.14415, 2.4519, 2.8465, 0.0499, -0.05998, 2.2331, -0.32316, 2.7939]\n",
    "counts = []\n",
    "\n",
    "for theta in thetas:\n",
    "    qc = qsvm_circuit_for_six_nine(trains, theta)\n",
    "    # qc.draw(fold=-1)\n",
    "\n",
    "    simulator = Aer.get_backend('qasm_simulator')\n",
    "    job = execute(qc, simulator, shots=8192)\n",
    "    result = job.result().get_counts()\n",
    "#     print(result)\n",
    "    result = {key[1]:val for key,val in result.items() if key[0]=='0'}\n",
    "#     print(result)\n",
    "    if result['0'] > result['1']:\n",
    "        counts.append(0)\n",
    "    else:\n",
    "        counts.append(1)\n",
    "    \n",
    "print(counts)"
   ]
  },
  {
   "cell_type": "code",
   "execution_count": null,
   "id": "c94359f1",
   "metadata": {},
   "outputs": [],
   "source": []
  }
 ],
 "metadata": {
  "kernelspec": {
   "display_name": "Python 3 (ipykernel)",
   "language": "python",
   "name": "python3"
  },
  "language_info": {
   "codemirror_mode": {
    "name": "ipython",
    "version": 3
   },
   "file_extension": ".py",
   "mimetype": "text/x-python",
   "name": "python",
   "nbconvert_exporter": "python",
   "pygments_lexer": "ipython3",
   "version": "3.10.9"
  }
 },
 "nbformat": 4,
 "nbformat_minor": 5
}
