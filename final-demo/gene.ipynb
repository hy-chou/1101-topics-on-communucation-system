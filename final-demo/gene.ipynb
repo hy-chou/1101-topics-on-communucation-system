{
 "cells": [
  {
   "cell_type": "code",
   "execution_count": 1,
   "id": "8ec305d6",
   "metadata": {},
   "outputs": [],
   "source": [
    "from qiskit import QuantumRegister, ClassicalRegister, QuantumCircuit, Aer, execute\n",
    "from qiskit.algorithms.linear_solvers.hhl import HHL\n",
    "from qiskit.visualization import plot_histogram, plot_bloch_multivector\n",
    "from math import pi\n",
    "import numpy as np"
   ]
  },
  {
   "cell_type": "code",
   "execution_count": 2,
   "id": "383ccf80",
   "metadata": {},
   "outputs": [],
   "source": [
    "def qsvm_circuit_for_six_nine1(theta):\n",
    "    q = QuantumRegister(5, name=\"x\")\n",
    "    c = ClassicalRegister(1, name=\"c\")\n",
    "    qc = QuantumCircuit(q, c)\n",
    "    qc.reset(q)\n",
    "    matrix = np.array([[1.05, 0.5], [0.5, 1.05]])\n",
    "    vector = np.array([1, 0])\n",
    "    hhl = HHL().construct_circuit(matrix, vector)\n",
    "    qc.compose(hhl, qubits=[2,1,0,3], inplace=True)\n",
    "    qc.barrier()\n",
    "    qc.x(q[2])\n",
    "    qc.ccx(q[2], q[3], q[4])\n",
    "    qc.x(q[2])\n",
    "    qc.cry(0.3194, q[4], q[1])\n",
    "    qc.x(q[2])\n",
    "    qc.ccx(q[2], q[3], q[4])\n",
    "    qc.x(q[2])\n",
    "    qc.barrier()\n",
    "    qc.ccx(q[2], q[3], q[4])\n",
    "    qc.cry(2.4174, q[4], q[1])\n",
    "    qc.ccx(q[2], q[3], q[4])\n",
    "    qc.barrier()\n",
    "    qc.cry(-theta, q[3], q[1])\n",
    "    qc.ch(q[3], q[2])\n",
    "    qc.barrier()\n",
    "    qc.h(q[3])\n",
    "    qc.measure(q[3], c)\n",
    "    #qc.h(q[1])\n",
    "    #qc.measure(q[1], c[1])\n",
    "    qc.draw(output='mpl')\n",
    "    return qc"
   ]
  },
  {
   "cell_type": "code",
   "execution_count": 3,
   "id": "ddf44956",
   "metadata": {},
   "outputs": [
    {
     "ename": "CircuitError",
     "evalue": "'Number of items in qubits parameter (4) does not match number of qubits in the circuit (5).'",
     "output_type": "error",
     "traceback": [
      "\u001b[0;31m---------------------------------------------------------------------------\u001b[0m",
      "\u001b[0;31mCircuitError\u001b[0m                              Traceback (most recent call last)",
      "\u001b[0;32m/var/folders/1s/h26s0qxx3_b3r_s010t_9dyc0000gn/T/ipykernel_24369/2803090062.py\u001b[0m in \u001b[0;36m<module>\u001b[0;34m\u001b[0m\n\u001b[1;32m      2\u001b[0m \u001b[0mcounts\u001b[0m \u001b[0;34m=\u001b[0m \u001b[0;34m[\u001b[0m\u001b[0;34m]\u001b[0m\u001b[0;34m\u001b[0m\u001b[0;34m\u001b[0m\u001b[0m\n\u001b[1;32m      3\u001b[0m \u001b[0;32mfor\u001b[0m \u001b[0mtheta\u001b[0m \u001b[0;32min\u001b[0m \u001b[0mthetas\u001b[0m\u001b[0;34m:\u001b[0m\u001b[0;34m\u001b[0m\u001b[0;34m\u001b[0m\u001b[0m\n\u001b[0;32m----> 4\u001b[0;31m     \u001b[0mqc\u001b[0m \u001b[0;34m=\u001b[0m \u001b[0mqsvm_circuit_for_six_nine1\u001b[0m\u001b[0;34m(\u001b[0m\u001b[0mtheta\u001b[0m\u001b[0;34m)\u001b[0m\u001b[0;34m\u001b[0m\u001b[0;34m\u001b[0m\u001b[0m\n\u001b[0m\u001b[1;32m      5\u001b[0m     \u001b[0;31m# qc.draw(fold=-1)\u001b[0m\u001b[0;34m\u001b[0m\u001b[0;34m\u001b[0m\u001b[0m\n\u001b[1;32m      6\u001b[0m     \u001b[0msimulator\u001b[0m \u001b[0;34m=\u001b[0m \u001b[0mAer\u001b[0m\u001b[0;34m.\u001b[0m\u001b[0mget_backend\u001b[0m\u001b[0;34m(\u001b[0m\u001b[0;34m'qasm_simulator'\u001b[0m\u001b[0;34m)\u001b[0m\u001b[0;34m\u001b[0m\u001b[0;34m\u001b[0m\u001b[0m\n",
      "\u001b[0;32m/var/folders/1s/h26s0qxx3_b3r_s010t_9dyc0000gn/T/ipykernel_24369/3517403799.py\u001b[0m in \u001b[0;36mqsvm_circuit_for_six_nine1\u001b[0;34m(theta)\u001b[0m\n\u001b[1;32m      7\u001b[0m     \u001b[0mvector\u001b[0m \u001b[0;34m=\u001b[0m \u001b[0mnp\u001b[0m\u001b[0;34m.\u001b[0m\u001b[0marray\u001b[0m\u001b[0;34m(\u001b[0m\u001b[0;34m[\u001b[0m\u001b[0;36m1\u001b[0m\u001b[0;34m,\u001b[0m \u001b[0;36m0\u001b[0m\u001b[0;34m]\u001b[0m\u001b[0;34m)\u001b[0m\u001b[0;34m\u001b[0m\u001b[0;34m\u001b[0m\u001b[0m\n\u001b[1;32m      8\u001b[0m     \u001b[0mhhl\u001b[0m \u001b[0;34m=\u001b[0m \u001b[0mHHL\u001b[0m\u001b[0;34m(\u001b[0m\u001b[0;34m)\u001b[0m\u001b[0;34m.\u001b[0m\u001b[0mconstruct_circuit\u001b[0m\u001b[0;34m(\u001b[0m\u001b[0mmatrix\u001b[0m\u001b[0;34m,\u001b[0m \u001b[0mvector\u001b[0m\u001b[0;34m)\u001b[0m\u001b[0;34m\u001b[0m\u001b[0;34m\u001b[0m\u001b[0m\n\u001b[0;32m----> 9\u001b[0;31m     \u001b[0mqc\u001b[0m\u001b[0;34m.\u001b[0m\u001b[0mcompose\u001b[0m\u001b[0;34m(\u001b[0m\u001b[0mhhl\u001b[0m\u001b[0;34m,\u001b[0m \u001b[0mqubits\u001b[0m\u001b[0;34m=\u001b[0m\u001b[0;34m[\u001b[0m\u001b[0;36m2\u001b[0m\u001b[0;34m,\u001b[0m\u001b[0;36m1\u001b[0m\u001b[0;34m,\u001b[0m\u001b[0;36m0\u001b[0m\u001b[0;34m,\u001b[0m\u001b[0;36m3\u001b[0m\u001b[0;34m]\u001b[0m\u001b[0;34m,\u001b[0m \u001b[0minplace\u001b[0m\u001b[0;34m=\u001b[0m\u001b[0;32mTrue\u001b[0m\u001b[0;34m)\u001b[0m\u001b[0;34m\u001b[0m\u001b[0;34m\u001b[0m\u001b[0m\n\u001b[0m\u001b[1;32m     10\u001b[0m     \u001b[0mqc\u001b[0m\u001b[0;34m.\u001b[0m\u001b[0mbarrier\u001b[0m\u001b[0;34m(\u001b[0m\u001b[0;34m)\u001b[0m\u001b[0;34m\u001b[0m\u001b[0;34m\u001b[0m\u001b[0m\n\u001b[1;32m     11\u001b[0m     \u001b[0mqc\u001b[0m\u001b[0;34m.\u001b[0m\u001b[0mx\u001b[0m\u001b[0;34m(\u001b[0m\u001b[0mq\u001b[0m\u001b[0;34m[\u001b[0m\u001b[0;36m2\u001b[0m\u001b[0;34m]\u001b[0m\u001b[0;34m)\u001b[0m\u001b[0;34m\u001b[0m\u001b[0;34m\u001b[0m\u001b[0m\n",
      "\u001b[0;32m/usr/local/anaconda3/envs/IBMQ/lib/python3.9/site-packages/qiskit/circuit/quantumcircuit.py\u001b[0m in \u001b[0;36mcompose\u001b[0;34m(self, other, qubits, clbits, front, inplace, wrap)\u001b[0m\n\u001b[1;32m    842\u001b[0m             \u001b[0mqubit_map\u001b[0m \u001b[0;34m=\u001b[0m \u001b[0midentity_qubit_map\u001b[0m\u001b[0;34m\u001b[0m\u001b[0;34m\u001b[0m\u001b[0m\n\u001b[1;32m    843\u001b[0m         \u001b[0;32melif\u001b[0m \u001b[0mlen\u001b[0m\u001b[0;34m(\u001b[0m\u001b[0mqubits\u001b[0m\u001b[0;34m)\u001b[0m \u001b[0;34m!=\u001b[0m \u001b[0mlen\u001b[0m\u001b[0;34m(\u001b[0m\u001b[0mother\u001b[0m\u001b[0;34m.\u001b[0m\u001b[0mqubits\u001b[0m\u001b[0;34m)\u001b[0m\u001b[0;34m:\u001b[0m\u001b[0;34m\u001b[0m\u001b[0;34m\u001b[0m\u001b[0m\n\u001b[0;32m--> 844\u001b[0;31m             raise CircuitError(\n\u001b[0m\u001b[1;32m    845\u001b[0m                 \u001b[0;34mf\"Number of items in qubits parameter ({len(qubits)}) does not\"\u001b[0m\u001b[0;34m\u001b[0m\u001b[0;34m\u001b[0m\u001b[0m\n\u001b[1;32m    846\u001b[0m                 \u001b[0;34mf\" match number of qubits in the circuit ({len(other.qubits)}).\"\u001b[0m\u001b[0;34m\u001b[0m\u001b[0;34m\u001b[0m\u001b[0m\n",
      "\u001b[0;31mCircuitError\u001b[0m: 'Number of items in qubits parameter (4) does not match number of qubits in the circuit (5).'"
     ]
    }
   ],
   "source": [
    "thetas = [-0.14415, 2.4519, 2.8465, 0.0499, -0.05998, 2.2331, -0.32316, 2.793]\n",
    "counts = []\n",
    "for theta in thetas:\n",
    "    qc = qsvm_circuit_for_six_nine1(theta)\n",
    "    # qc.draw(fold=-1)\n",
    "    simulator = Aer.get_backend('qasm_simulator')\n",
    "    job = execute(qc, simulator, shots=8192)\n",
    "    result = job.result().get_counts()\n",
    "    #print(result)\n",
    "    print(result['0']/result['1'])\n",
    "    #result = {key[1]:val for key,val in result.items() if key[0]=='0'}\n",
    "    '''if result['0'] > result['1']:\n",
    "        counts.append(0)\n",
    "    else:\n",
    "        counts.append(1)'''\n",
    "#print(counts)"
   ]
  },
  {
   "cell_type": "code",
   "execution_count": null,
   "id": "bdfcfb75",
   "metadata": {},
   "outputs": [],
   "source": []
  }
 ],
 "metadata": {
  "kernelspec": {
   "display_name": "Python 3 (ipykernel)",
   "language": "python",
   "name": "python3"
  },
  "language_info": {
   "codemirror_mode": {
    "name": "ipython",
    "version": 3
   },
   "file_extension": ".py",
   "mimetype": "text/x-python",
   "name": "python",
   "nbconvert_exporter": "python",
   "pygments_lexer": "ipython3",
   "version": "3.10.9"
  }
 },
 "nbformat": 4,
 "nbformat_minor": 5
}
